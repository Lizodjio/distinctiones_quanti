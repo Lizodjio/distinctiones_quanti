{
  "cells": [
    {
      "cell_type": "markdown",
      "metadata": {
        "id": "Ehw5A0MSr_2p"
      },
      "source": [
        "# Подготовка. Загрузка библиотек"
      ]
    },
    {
      "cell_type": "code",
      "execution_count": null,
      "metadata": {},
      "outputs": [],
      "source": [
        "# импортируем библиотеку для работы с файлами\n",
        "import os"
      ]
    },
    {
      "cell_type": "code",
      "execution_count": null,
      "metadata": {
        "id": "FBWqzW741KKJ"
      },
      "outputs": [],
      "source": [
        "input_folder = \"../data/txt\"\n",
        "output_folder = \"../data/conllu\"\n",
        "os.makedirs(output_folder, exist_ok=True)"
      ]
    },
    {
      "cell_type": "markdown",
      "metadata": {
        "id": "aFB1dhjzsI1f"
      },
      "source": [
        "# Преобразовываем txt файлы с заголовками в CoNLL-U"
      ]
    },
    {
      "cell_type": "code",
      "execution_count": 8,
      "metadata": {
        "id": "ii6xUKLGsMWr"
      },
      "outputs": [],
      "source": [
        "# Функция для преобразования строки в формат CoNLL-U\n",
        "def txt_to_conllu(input_text):\n",
        "    lines = []\n",
        "    for line in input_text.splitlines():\n",
        "        words = line.strip().split()\n",
        "        for idx, word in enumerate(words, 1):\n",
        "            conllu_line = f\"{idx}\\t{word}\\t_\\t_\\t_\\t_\\t_\\t_\\t_\\t_\"\n",
        "            lines.append(conllu_line)\n",
        "        lines.append(\"\")  # Пустая строка между предложениями\n",
        "    return \"\\n\".join(lines) + \"\\n\""
      ]
    },
    {
      "cell_type": "code",
      "execution_count": 9,
      "metadata": {},
      "outputs": [
        {
          "name": "stdout",
          "output_type": "stream",
          "text": [
            "Файл anonymous_angelus.txt преобразован в ../data/conllu/anonymous_angelus.conllu\n",
            "Файл mauritius_hibernicus_distinctiones.txt преобразован в ../data/conllu/mauritius_hibernicus_distinctiones.conllu\n",
            "Файл alanus_de_insula_dist_summa.txt преобразован в ../data/conllu/alanus_de_insula_dist_summa.conllu\n",
            "Файл nicolas_de_biard-distinctiones.txt преобразован в ../data/conllu/nicolas_de_biard-distinctiones.conllu\n",
            "Файл nicolas_de_gorran_distinctiones.txt преобразован в ../data/conllu/nicolas_de_gorran_distinctiones.conllu\n",
            "Файл guido_ebroicensis_summa.txt преобразован в ../data/conllu/guido_ebroicensis_summa.conllu\n",
            "Файл petrus_cantor_distinctiones.txt преобразован в ../data/conllu/petrus_cantor_distinctiones.conllu\n"
          ]
        }
      ],
      "source": [
        "# Обрабатываем каждый файл в папке\n",
        "for filename in os.listdir(input_folder):\n",
        "    if filename.endswith(\".txt\"):\n",
        "        input_file_path = os.path.join(input_folder, filename)\n",
        "        output_file_path = os.path.join(output_folder, f\"{os.path.splitext(filename)[0]}.conllu\")\n",
        "\n",
        "        with open(input_file_path, \"r\", encoding=\"utf-8\") as input_file:\n",
        "            input_text = input_file.read()\n",
        "\n",
        "        conllu_text = txt_to_conllu(input_text)\n",
        "\n",
        "        with open(output_file_path, \"w\", encoding=\"utf-8\") as output_file:\n",
        "            output_file.write(conllu_text)\n",
        "\n",
        "        print(f\"Файл {filename} преобразован в {output_file_path}\")"
      ]
    },
    {
      "cell_type": "code",
      "execution_count": null,
      "metadata": {},
      "outputs": [],
      "source": []
    }
  ],
  "metadata": {
    "colab": {
      "provenance": []
    },
    "kernelspec": {
      "display_name": "Python 3",
      "name": "python3"
    },
    "language_info": {
      "codemirror_mode": {
        "name": "ipython",
        "version": 3
      },
      "file_extension": ".py",
      "mimetype": "text/x-python",
      "name": "python",
      "nbconvert_exporter": "python",
      "pygments_lexer": "ipython3",
      "version": "3.11.10"
    }
  },
  "nbformat": 4,
  "nbformat_minor": 0
}
