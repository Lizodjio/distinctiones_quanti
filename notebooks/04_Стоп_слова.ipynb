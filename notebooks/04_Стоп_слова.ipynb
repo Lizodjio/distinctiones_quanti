{
  "cells": [
    {
      "cell_type": "markdown",
      "metadata": {
        "id": "S5AlN3phVre5"
      },
      "source": [
        "# Загрузка библиотек. Подготовка данных"
      ]
    },
    {
      "cell_type": "code",
      "execution_count": 1,
      "metadata": {
        "id": "V_HGDr4IooVi"
      },
      "outputs": [],
      "source": [
        "import os\n",
        "import csv\n",
        "import re"
      ]
    },
    {
      "cell_type": "markdown",
      "metadata": {
        "id": "WhZXDXrFkyBg"
      },
      "source": [
        "# Убираем стоп-слова"
      ]
    },
    {
      "cell_type": "markdown",
      "metadata": {},
      "source": [
        "## Вспомогательные функции"
      ]
    },
    {
      "cell_type": "code",
      "execution_count": 2,
      "metadata": {
        "id": "vAc1qZXcl52k"
      },
      "outputs": [],
      "source": [
        "def remove_words_from_csv_folder(folder_path, words_to_remove):\n",
        "    # Создаем регулярное выражение для поиска целых слов\n",
        "    pattern = r'\\b(' + '|'.join(map(re.escape, words_to_remove)) + r')\\b'\n",
        "\n",
        "    for filename in os.listdir(folder_path):\n",
        "        if filename.endswith(\".csv\"):  # Проверяем, что файл — это CSV\n",
        "            input_file = os.path.join(folder_path, filename)\n",
        "            output_file = os.path.join(folder_path, \"cleaned_\" + filename)  # Новый файл\n",
        "\n",
        "            with open(input_file, 'r', encoding='utf-8', newline='') as infile:\n",
        "                reader = csv.reader(infile)\n",
        "                rows = []\n",
        "\n",
        "                for row in reader:\n",
        "                    new_row = [re.sub(pattern, \"\", cell) for cell in row]  # Удаляем слова\n",
        "                    rows.append(new_row)\n",
        "\n",
        "            with open(output_file, 'w', encoding='utf-8', newline='') as outfile:\n",
        "                writer = csv.writer(outfile)\n",
        "                writer.writerows(rows)\n",
        "\n",
        "            print(f\"Файл {filename} обработан и сохранен как {output_file}\")"
      ]
    },
    {
      "cell_type": "code",
      "execution_count": 3,
      "metadata": {},
      "outputs": [
        {
          "name": "stdout",
          "output_type": "stream",
          "text": [
            "Файл anonymous_angelus.predicted_лем.csv обработан и сохранен как ../data/lemmas/cleaned_anonymous_angelus.predicted_лем.csv\n",
            "Файл alanus_de_insula_dist_summa.predicted_лем.csv обработан и сохранен как ../data/lemmas/cleaned_alanus_de_insula_dist_summa.predicted_лем.csv\n",
            "Файл mauritius_hibernicus_distinctiones.predicted_лем.csv обработан и сохранен как ../data/lemmas/cleaned_mauritius_hibernicus_distinctiones.predicted_лем.csv\n",
            "Файл nicolas_de_biard-distinctiones.predicted_лем.csv обработан и сохранен как ../data/lemmas/cleaned_nicolas_de_biard-distinctiones.predicted_лем.csv\n",
            "Файл petrus_cantor_distinctiones.predicted_лем.csv обработан и сохранен как ../data/lemmas/cleaned_petrus_cantor_distinctiones.predicted_лем.csv\n",
            "Файл guido_ebroicensis_summa.predicted_лем.csv обработан и сохранен как ../data/lemmas/cleaned_guido_ebroicensis_summa.predicted_лем.csv\n",
            "Файл nicolas_de_gorran_distinctiones.predicted_лем.csv обработан и сохранен как ../data/lemmas/cleaned_nicolas_de_gorran_distinctiones.predicted_лем.csv\n"
          ]
        }
      ],
      "source": [
        "# Папка с CSV-файлами\n",
        "folder_path = \"../data/lemmas\" \n",
        "\n",
        "# Список стоп-слов для удаления\n",
        "words_to_remove = [\"ab\", \"a\", \"aa\", \"ac\", \"ad\", \"adhic\", \"aliqui\", \"aliquis\", \"an\", \"ante\", \"apud\", \"at\", \"atque\", \"aut\", \"autem\", \"cum\", \"cur\", \"de\", \"deinde\", \"dum\", \"ego\", \"enim\", \"ergo\", \"es\",\n",
        "                   \"est\", \"et\", \"etiam\", \"etsi\", \"ex\", \"fio\", \"haud\", \"hic\", \"iam\", \"idem\", \"igitur\", \"ille\", \"in\", \"infra\", \"inter\", \"interim\", \"ipse\", \"is\", \"ita\", \"magis\", \"modo\", \"mox\", \"nam\", \"ne\", \"nec\", \"necque\",\n",
        "                   \"neque\", \"nisi\", \"non\", \"nos\", \"o\", \"ob\", \"per\", \"possum\", \"post\", \"pro\", \"quae\", \"quam\", \"quare\", \"qui\", \"quia\", \"quicumque\", \"quidem\", \"quilibet\", \"quis\", \"quisnam\", \"quisquam\", \"quisque\", \"quisquis\", \"quo\", \"quoniam\",\n",
        "                   \"sed\", \"si\", \"sic\", \"siue\", \"sub\", \"sui\", \"sum\", \"super\", \"suus\", \"tam\", \"tamen\", \"trans\", \"tu\", \"tum\", \"ubi\", \"uel\", \"uero\", \"unus\", \"ut\"]\n",
        "\n",
        "# Запускаем обработку\n",
        "remove_words_from_csv_folder(folder_path, words_to_remove)"
      ]
    },
    {
      "cell_type": "code",
      "execution_count": null,
      "metadata": {},
      "outputs": [],
      "source": []
    }
  ],
  "metadata": {
    "colab": {
      "provenance": []
    },
    "kernelspec": {
      "display_name": "Python 3",
      "name": "python3"
    },
    "language_info": {
      "codemirror_mode": {
        "name": "ipython",
        "version": 3
      },
      "file_extension": ".py",
      "mimetype": "text/x-python",
      "name": "python",
      "nbconvert_exporter": "python",
      "pygments_lexer": "ipython3",
      "version": "3.11.10"
    }
  },
  "nbformat": 4,
  "nbformat_minor": 0
}
