{
  "cells": [
    {
      "cell_type": "markdown",
      "metadata": {
        "id": "x_D2LKj4-I0D"
      },
      "source": [
        "# Импорт библиотек\n",
        "\n",
        "\n"
      ]
    },
    {
      "cell_type": "code",
      "execution_count": 1,
      "metadata": {
        "id": "BfayHT0Co0sZ"
      },
      "outputs": [],
      "source": [
        "import pandas as pd\n",
        "from itertools import combinations\n",
        "import os"
      ]
    },
    {
      "cell_type": "code",
      "execution_count": 2,
      "metadata": {},
      "outputs": [],
      "source": [
        "# Загрузка CSV-файла c леммами без предлогов\n",
        "file_path = os.path.join(\"..\", \"data\", \"csv\", \"no_prepositions.csv\")\n",
        "df = pd.read_csv(file_path)"
      ]
    },
    {
      "cell_type": "markdown",
      "metadata": {
        "id": "HkaR-QLoG_9g"
      },
      "source": [
        "## создание таблиц узлов и ребер"
      ]
    },
    {
      "cell_type": "code",
      "execution_count": 4,
      "metadata": {
        "id": "zL2GSQ4hHDT6"
      },
      "outputs": [
        {
          "name": "stdout",
          "output_type": "stream",
          "text": [
            "Готово!\n",
            " Файлы 'bimodal_edges.csv' и 'bimodal_nodes.csv' сохранены в ../output/for_gephi\n",
            " Общие леммы по парам сборников — в ../output/shared_lemmas_txt\n"
          ]
        }
      ],
      "source": [
        "# Находим все колонки, содержащие леммы (оканчиваются на '_lemmas')\n",
        "collections = [col for col in df.columns if col.endswith('_lemmas')]\n",
        "\n",
        "# Создаем словарь: {название сборника: множество его лемм}\n",
        "collection_lemmas = {\n",
        "    col.replace(\"_lemmas\", \"\"): set(df[col].dropna())\n",
        "    for col in collections\n",
        "}\n",
        "\n",
        "# Подготовка рёбер и атрибутов узлов для бимодальной сети\n",
        "edges_bimodal = []\n",
        "nodes_attributes = []\n",
        "\n",
        "for collection, lemmas in collection_lemmas.items():\n",
        "    nodes_attributes.append((collection, \"collection\"))  # сборник как узел\n",
        "    for lemma in lemmas:\n",
        "        edges_bimodal.append((collection, lemma))  # ребро\n",
        "        nodes_attributes.append((lemma, \"lemma\"))  # лемма как узел\n",
        "\n",
        "# Удаляем дубликаты узлов\n",
        "nodes_attributes = list(set(nodes_attributes))\n",
        "\n",
        "# Папка для вывода\n",
        "output_dir = os.path.join(\"..\", \"output\", \"for_gephi\")\n",
        "os.makedirs(output_dir, exist_ok=True)\n",
        "\n",
        "# Папка для файлов с общими леммами\n",
        "common_lemmas_dir = os.path.join(\"..\", \"output\", \"shared_lemmas_txt\")\n",
        "os.makedirs(common_lemmas_dir, exist_ok=True)\n",
        "\n",
        "# Сохраняем рёбра и узлы в CSV\n",
        "edges_bimodal_df = pd.DataFrame(edges_bimodal, columns=[\"Source\", \"Target\"])\n",
        "nodes_attributes_df = pd.DataFrame(nodes_attributes, columns=[\"Id\", \"Attribute\"])\n",
        "\n",
        "edges_csv_path = os.path.join(output_dir, \"bimodal_edges.csv\")\n",
        "nodes_csv_path = os.path.join(output_dir, \"bimodal_nodes.csv\")\n",
        "\n",
        "edges_bimodal_df.to_csv(edges_csv_path, index=False)\n",
        "nodes_attributes_df.to_csv(nodes_csv_path, index=False)\n",
        "\n",
        "# Сохраняем файлы с общими леммами между парами сборников\n",
        "for coll1, coll2 in combinations(collection_lemmas.keys(), 2):\n",
        "    common_lemmas = collection_lemmas[coll1] & collection_lemmas[coll2]\n",
        "    if common_lemmas:\n",
        "        file_name = f\"{coll1} - {coll2} - общие леммы.txt\"\n",
        "        file_path = os.path.join(common_lemmas_dir, file_name)\n",
        "        with open(file_path, \"w\", encoding=\"utf-8\") as f:\n",
        "            f.write(\"\\n\".join(sorted(common_lemmas)))\n",
        "\n",
        "print(\"Готово!\")\n",
        "print(f\" Файлы 'bimodal_edges.csv' и 'bimodal_nodes.csv' сохранены в {output_dir}\")\n",
        "print(f\" Общие леммы по парам сборников — в {common_lemmas_dir}\")\n"
      ]
    },
    {
      "cell_type": "code",
      "execution_count": null,
      "metadata": {},
      "outputs": [],
      "source": []
    }
  ],
  "metadata": {
    "colab": {
      "provenance": []
    },
    "kernelspec": {
      "display_name": "Python 3",
      "language": "python",
      "name": "python3"
    },
    "language_info": {
      "codemirror_mode": {
        "name": "ipython",
        "version": 3
      },
      "file_extension": ".py",
      "mimetype": "text/x-python",
      "name": "python",
      "nbconvert_exporter": "python",
      "pygments_lexer": "ipython3",
      "version": "3.11.10"
    }
  },
  "nbformat": 4,
  "nbformat_minor": 0
}
