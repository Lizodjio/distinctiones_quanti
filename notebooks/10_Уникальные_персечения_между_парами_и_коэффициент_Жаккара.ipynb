{
  "cells": [
    {
      "cell_type": "markdown",
      "metadata": {
        "id": "S5AlN3phVre5"
      },
      "source": [
        "# Загрузка библиотек. Подготовка данных"
      ]
    },
    {
      "cell_type": "code",
      "execution_count": 18,
      "metadata": {
        "id": "5BL_y3k1WouQ"
      },
      "outputs": [],
      "source": [
        "import csv\n",
        "import os\n",
        "from itertools import combinations\n",
        "import pandas as pd\n",
        "from collections import Counter\n",
        "from sklearn.metrics import jaccard_score\n",
        "import glob"
      ]
    },
    {
      "cell_type": "code",
      "execution_count": 8,
      "metadata": {},
      "outputs": [],
      "source": [
        "# Загрузка файла\n",
        "file_path = \"../output/for_gephi/bimodal_edges.csv\""
      ]
    },
    {
      "cell_type": "code",
      "execution_count": 4,
      "metadata": {},
      "outputs": [],
      "source": [
        "# Путь к папке для сохранения результата\n",
        "output_dir = os.path.join(\"..\", \"output\", \"stats_tables\")\n",
        "os.makedirs(output_dir, exist_ok=True)"
      ]
    },
    {
      "cell_type": "markdown",
      "metadata": {
        "id": "dMV6uylUhdOR"
      },
      "source": [
        "# Определяем гапаксы для пар сборников"
      ]
    },
    {
      "cell_type": "code",
      "execution_count": 10,
      "metadata": {
        "id": "3FAo1PUEZNC2"
      },
      "outputs": [
        {
          "name": "stdout",
          "output_type": "stream",
          "text": [
            "Результат сохранён: ../output/stats_tables/targets_with_2_occurrences.csv\n"
          ]
        }
      ],
      "source": [
        "# Имя итогового CSV\n",
        "output_path = os.path.join(output_dir, \"targets_with_2_occurrences.csv\")\n",
        "\n",
        "# Чтение данных\n",
        "df = pd.read_csv(file_path)\n",
        "\n",
        "# Находим значения Target, которые встречаются ровно 2 раза\n",
        "target_counts = df[\"Target\"].value_counts()\n",
        "targets_with_2_occurrences = target_counts[target_counts == 2].index\n",
        "\n",
        "# Фильтруем исходные данные\n",
        "filtered_df = df[df[\"Target\"].isin(targets_with_2_occurrences)]\n",
        "\n",
        "# Группировка по Target и сбор уникальных Source\n",
        "grouped = (\n",
        "    filtered_df\n",
        "    .groupby(\"Target\")[\"Source\"]\n",
        "    .unique()\n",
        "    .reset_index()\n",
        ")\n",
        "\n",
        "# Преобразуем список Source в строку\n",
        "grouped[\"Source\"] = grouped[\"Source\"].apply(lambda sources: \", \".join(sorted(sources)))\n",
        "\n",
        "# Сохраняем результат\n",
        "grouped.to_csv(output_path, index=False, sep=\";\")\n",
        "\n",
        "print(f\"Результат сохранён: {output_path}\")\n"
      ]
    },
    {
      "cell_type": "markdown",
      "metadata": {
        "id": "dGAhc5XqLSpD"
      },
      "source": [
        "# Считаем количество гапаксов для каждой пары"
      ]
    },
    {
      "cell_type": "code",
      "execution_count": 16,
      "metadata": {
        "id": "_MsMfdFPLYiO"
      },
      "outputs": [
        {
          "name": "stdout",
          "output_type": "stream",
          "text": [
            "✅ Результат сохранён в файл: ../output/stats_tables/source_pair_target_counts.csv\n"
          ]
        }
      ],
      "source": [
        "# Загрузка файла\n",
        "file_path = \"../data/csv/targets_with_sources.csv\"\n",
        "\n",
        "# Папка для сохранения результата\n",
        "output_dir = os.path.join(\"..\", \"output\", \"stats_tables\")\n",
        "os.makedirs(output_dir, exist_ok=True)\n",
        "\n",
        "# Путь к выходному файлу\n",
        "output_path = os.path.join(output_dir, \"source_pair_target_counts.csv\")\n",
        "\n",
        "# Читаем CSV (разделитель — запятая)\n",
        "df = pd.read_csv(file_path)\n",
        "\n",
        "# Группируем по Target и получаем список Source для каждого\n",
        "target_groups = df.groupby(\"Target\")[\"Source\"].unique()\n",
        "\n",
        "# Выбираем только те Targets, которые встречаются в ровно двух источниках\n",
        "target_pairs = target_groups[target_groups.apply(len) == 2]\n",
        "\n",
        "# Считаем, сколько раз каждая пара источников делит общий Target\n",
        "pair_counter = Counter()\n",
        "\n",
        "for sources in target_pairs:\n",
        "    pair = tuple(sorted(sources))\n",
        "    pair_counter[pair] += 1\n",
        "\n",
        "# Формируем DataFrame\n",
        "result_df = pd.DataFrame(pair_counter.items(), columns=[\"Source_Pair\", \"Target_Count\"])\n",
        "\n",
        "# Разбиваем пары на отдельные колонки\n",
        "result_df[[\"Source_1\", \"Source_2\"]] = pd.DataFrame(result_df[\"Source_Pair\"].tolist(), index=result_df.index)\n",
        "result_df.drop(columns=[\"Source_Pair\"], inplace=True)\n",
        "\n",
        "# Сохраняем результат\n",
        "result_df.to_csv(output_path, index=False)\n",
        "\n",
        "print(f\"✅ Результат сохранён в файл: {output_path}\")\n"
      ]
    },
    {
      "cell_type": "markdown",
      "metadata": {
        "id": "t2arTARCkOaS"
      },
      "source": [
        "# Определяем коэффициент Жаккара между парами сборников"
      ]
    },
    {
      "cell_type": "code",
      "execution_count": 20,
      "metadata": {
        "id": "MGDzAa9yNIbn"
      },
      "outputs": [
        {
          "name": "stdout",
          "output_type": "stream",
          "text": [
            "Коэффициенты Жаккара сохранены в: ../output/stats_tables/jaccard_similarity_matrix.csv\n"
          ]
        }
      ],
      "source": [
        "# Путь к папке с файлами\n",
        "lemmas_dir = os.path.join(\"..\", \"data\", \"lemmas\")\n",
        "\n",
        "# Папка для результата\n",
        "output_dir = os.path.join(\"..\", \"output\", \"stats_tables\")\n",
        "os.makedirs(output_dir, exist_ok=True)\n",
        "\n",
        "# Имя итогового CSV\n",
        "output_path = os.path.join(output_dir, \"jaccard_similarity_matrix.csv\")\n",
        "\n",
        "# Собираем все файлы cleaned_*.csv\n",
        "files = glob.glob(os.path.join(lemmas_dir, \"cleaned_*.csv\"))\n",
        "\n",
        "# Словарь: имя файла → множество лемм\n",
        "file_lemmas = {}\n",
        "\n",
        "# Чтение и извлечение единственной колонки из каждого файла\n",
        "for file_path in files:\n",
        "    try:\n",
        "        df = pd.read_csv(file_path, header=None, names=[\"lemma\"])\n",
        "        lemmas = set(df[\"lemma\"].dropna().astype(str))\n",
        "        file_label = os.path.basename(file_path).replace(\"cleaned_\", \"\")\n",
        "        file_lemmas[file_label] = lemmas\n",
        "    except Exception as e:\n",
        "        print(f\"Ошибка в {file_path}: {e}\")\n",
        "\n",
        "# Вычисление коэффициента Жаккара для всех пар\n",
        "results = []\n",
        "for (file1, lemmas1), (file2, lemmas2) in combinations(file_lemmas.items(), 2):\n",
        "    intersection = len(lemmas1 & lemmas2)\n",
        "    union = len(lemmas1 | lemmas2)\n",
        "    jaccard = intersection / union if union > 0 else 0\n",
        "    results.append((file1, file2, round(jaccard, 4)))\n",
        "\n",
        "# Преобразуем в DataFrame\n",
        "jaccard_df = pd.DataFrame(results, columns=[\"File_1\", \"File_2\", \"Jaccard_Similarity\"])\n",
        "\n",
        "# Сохраняем\n",
        "jaccard_df.to_csv(output_path, index=False)\n",
        "\n",
        "print(f\"Коэффициенты Жаккара сохранены в: {output_path}\")\n"
      ]
    },
    {
      "cell_type": "code",
      "execution_count": null,
      "metadata": {},
      "outputs": [],
      "source": []
    }
  ],
  "metadata": {
    "colab": {
      "provenance": []
    },
    "kernelspec": {
      "display_name": "Python 3",
      "name": "python3"
    },
    "language_info": {
      "codemirror_mode": {
        "name": "ipython",
        "version": 3
      },
      "file_extension": ".py",
      "mimetype": "text/x-python",
      "name": "python",
      "nbconvert_exporter": "python",
      "pygments_lexer": "ipython3",
      "version": "3.11.10"
    }
  },
  "nbformat": 4,
  "nbformat_minor": 0
}
