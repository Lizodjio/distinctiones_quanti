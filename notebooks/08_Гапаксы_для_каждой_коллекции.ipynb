{
  "cells": [
    {
      "cell_type": "markdown",
      "metadata": {
        "id": "S5AlN3phVre5"
      },
      "source": [
        "# Загрузка библиотек. Подготовка данных"
      ]
    },
    {
      "cell_type": "code",
      "execution_count": 6,
      "metadata": {
        "id": "V_HGDr4IooVi"
      },
      "outputs": [],
      "source": [
        "import csv\n",
        "import os\n",
        "from itertools import combinations\n",
        "import glob\n",
        "import pandas as pd"
      ]
    },
    {
      "cell_type": "code",
      "execution_count": 4,
      "metadata": {},
      "outputs": [],
      "source": [
        "# Папка с леммами\n",
        "lemmas_dir = os.path.join(\"..\", \"data\", \"lemmas\")\n",
        "\n",
        "# Получаем все файлы, начинающиеся с 'cleaned_'\n",
        "files = glob.glob(os.path.join(lemmas_dir, \"cleaned_*.csv\"))"
      ]
    },
    {
      "cell_type": "markdown",
      "metadata": {
        "id": "WhZXDXrFkyBg"
      },
      "source": [
        "# Определяем гапаксы для каждой коллекции и их соотношение к общему числу лемм в каждом сборнике"
      ]
    },
    {
      "cell_type": "code",
      "execution_count": null,
      "metadata": {
        "id": "vAc1qZXcl52k"
      },
      "outputs": [
        {
          "data": {
            "text/html": [
              "<div>\n",
              "<style scoped>\n",
              "    .dataframe tbody tr th:only-of-type {\n",
              "        vertical-align: middle;\n",
              "    }\n",
              "\n",
              "    .dataframe tbody tr th {\n",
              "        vertical-align: top;\n",
              "    }\n",
              "\n",
              "    .dataframe thead th {\n",
              "        text-align: right;\n",
              "    }\n",
              "</style>\n",
              "<table border=\"1\" class=\"dataframe\">\n",
              "  <thead>\n",
              "    <tr style=\"text-align: right;\">\n",
              "      <th></th>\n",
              "      <th>не уникальные леммы</th>\n",
              "      <th>уникальные леммы</th>\n",
              "      <th>всего лемм</th>\n",
              "      <th>% уникальных лемм</th>\n",
              "    </tr>\n",
              "    <tr>\n",
              "      <th>source</th>\n",
              "      <th></th>\n",
              "      <th></th>\n",
              "      <th></th>\n",
              "      <th></th>\n",
              "    </tr>\n",
              "  </thead>\n",
              "  <tbody>\n",
              "    <tr>\n",
              "      <th>alanus_de_insula_dist_summa.predicted_лем.csv</th>\n",
              "      <td>941</td>\n",
              "      <td>484</td>\n",
              "      <td>1425</td>\n",
              "      <td>33.96</td>\n",
              "    </tr>\n",
              "    <tr>\n",
              "      <th>anonymous_angelus.predicted_лем.csv</th>\n",
              "      <td>625</td>\n",
              "      <td>325</td>\n",
              "      <td>950</td>\n",
              "      <td>34.21</td>\n",
              "    </tr>\n",
              "    <tr>\n",
              "      <th>guido_ebroicensis_summa.predicted_лем.csv</th>\n",
              "      <td>70</td>\n",
              "      <td>5</td>\n",
              "      <td>75</td>\n",
              "      <td>6.67</td>\n",
              "    </tr>\n",
              "    <tr>\n",
              "      <th>mauritius_hibernicus_distinctiones.predicted_лем.csv</th>\n",
              "      <td>641</td>\n",
              "      <td>488</td>\n",
              "      <td>1129</td>\n",
              "      <td>43.22</td>\n",
              "    </tr>\n",
              "    <tr>\n",
              "      <th>nicolas_de_biard-distinctiones.predicted_лем.csv</th>\n",
              "      <td>555</td>\n",
              "      <td>311</td>\n",
              "      <td>866</td>\n",
              "      <td>35.91</td>\n",
              "    </tr>\n",
              "  </tbody>\n",
              "</table>\n",
              "</div>"
            ],
            "text/plain": [
              "                                                    не уникальные леммы  \\\n",
              "source                                                                    \n",
              "alanus_de_insula_dist_summa.predicted_лем.csv                       941   \n",
              "anonymous_angelus.predicted_лем.csv                                 625   \n",
              "guido_ebroicensis_summa.predicted_лем.csv                            70   \n",
              "mauritius_hibernicus_distinctiones.predicted_ле...                  641   \n",
              "nicolas_de_biard-distinctiones.predicted_лем.csv                    555   \n",
              "\n",
              "                                                    уникальные леммы  \\\n",
              "source                                                                 \n",
              "alanus_de_insula_dist_summa.predicted_лем.csv                    484   \n",
              "anonymous_angelus.predicted_лем.csv                              325   \n",
              "guido_ebroicensis_summa.predicted_лем.csv                          5   \n",
              "mauritius_hibernicus_distinctiones.predicted_ле...               488   \n",
              "nicolas_de_biard-distinctiones.predicted_лем.csv                 311   \n",
              "\n",
              "                                                    всего лемм  \\\n",
              "source                                                           \n",
              "alanus_de_insula_dist_summa.predicted_лем.csv             1425   \n",
              "anonymous_angelus.predicted_лем.csv                        950   \n",
              "guido_ebroicensis_summa.predicted_лем.csv                   75   \n",
              "mauritius_hibernicus_distinctiones.predicted_ле...        1129   \n",
              "nicolas_de_biard-distinctiones.predicted_лем.csv           866   \n",
              "\n",
              "                                                    % уникальных лемм  \n",
              "source                                                                 \n",
              "alanus_de_insula_dist_summa.predicted_лем.csv                   33.96  \n",
              "anonymous_angelus.predicted_лем.csv                             34.21  \n",
              "guido_ebroicensis_summa.predicted_лем.csv                        6.67  \n",
              "mauritius_hibernicus_distinctiones.predicted_ле...              43.22  \n",
              "nicolas_de_biard-distinctiones.predicted_лем.csv                35.91  "
            ]
          },
          "execution_count": 7,
          "metadata": {},
          "output_type": "execute_result"
        }
      ],
      "source": [
        "# Собираем все данные в один DataFrame\n",
        "all_data = []\n",
        "for file in files:\n",
        "    # Читаем CSV без заголовка и задаём имя колонки \"lemma\"\n",
        "    df = pd.read_csv(file, header=None, names=[\"lemma\"])\n",
        "\n",
        "    # Удаляем \"cleaned_\" из имени файла\n",
        "    filename = os.path.basename(file).replace(\"cleaned_\", \"\")\n",
        "\n",
        "    # Добавляем колонку с названием сборника\n",
        "    df[\"source\"] = filename\n",
        "\n",
        "    # Убираем дубликаты (на всякий случай)\n",
        "    df = df.drop_duplicates(subset=[\"lemma\", \"source\"])\n",
        "\n",
        "    all_data.append(df)\n",
        "\n",
        "# Объединяем все в один DataFrame\n",
        "df_all = pd.concat(all_data, ignore_index=True)\n",
        "\n",
        "# Подсчитываем, в скольких сборниках встречается каждая лемма\n",
        "df_counts = df_all.groupby(\"lemma\")[\"source\"].nunique().reset_index()\n",
        "df_counts.columns = [\"lemma\", \"collection_count\"]\n",
        "\n",
        "# Присоединяем эту информацию обратно к основному DataFrame\n",
        "df_all = df_all.merge(df_counts, on=\"lemma\", how=\"left\")\n",
        "\n",
        "# Определяем уникальность леммы\n",
        "df_all[\"is_unique\"] = df_all[\"collection_count\"] == 1\n",
        "\n",
        "# Группируем по сборнику и считаем уникальные/неуникальные леммы\n",
        "df_stats = df_all.groupby(\"source\")[\"is_unique\"].value_counts().unstack().fillna(0)\n",
        "\n",
        "# Переименовываем столбцы\n",
        "df_stats.columns = [\"не уникальные леммы\", \"уникальные леммы\"]\n",
        "\n",
        "# Считаем общее количество лемм\n",
        "df_stats[\"всего лемм\"] = (\n",
        "    df_stats[\"не уникальные леммы\"] + df_stats[\"уникальные леммы\"]\n",
        ")\n",
        "\n",
        "# Считаем долю уникальных лемм\n",
        "df_stats[\"% уникальных лемм\"] = (\n",
        "    df_stats[\"уникальные леммы\"] / df_stats[\"всего лемм\"] * 100\n",
        ").round(2)\n",
        "\n",
        "# Просмотр результата\n",
        "df_stats.head()\n"
      ]
    },
    {
      "cell_type": "code",
      "execution_count": 8,
      "metadata": {},
      "outputs": [],
      "source": [
        "df_stats.to_csv(\"../output/stats_tables/уникальные_леммы.csv\")"
      ]
    }
  ],
  "metadata": {
    "colab": {
      "provenance": []
    },
    "kernelspec": {
      "display_name": "Python 3",
      "name": "python3"
    },
    "language_info": {
      "codemirror_mode": {
        "name": "ipython",
        "version": 3
      },
      "file_extension": ".py",
      "mimetype": "text/x-python",
      "name": "python",
      "nbconvert_exporter": "python",
      "pygments_lexer": "ipython3",
      "version": "3.11.10"
    }
  },
  "nbformat": 4,
  "nbformat_minor": 0
}
