{
  "cells": [
    {
      "cell_type": "markdown",
      "metadata": {
        "id": "S5AlN3phVre5"
      },
      "source": [
        "# Загрузка библиотек. Подготовка данных"
      ]
    },
    {
      "cell_type": "code",
      "execution_count": 10,
      "metadata": {
        "id": "5BL_y3k1WouQ"
      },
      "outputs": [],
      "source": [
        "import csv\n",
        "import os\n",
        "from itertools import combinations\n",
        "import pandas as pd"
      ]
    },
    {
      "cell_type": "code",
      "execution_count": 11,
      "metadata": {},
      "outputs": [],
      "source": [
        "# Папка для результатов\n",
        "common_lemmas_dir = os.path.join(\"..\", \"output\", \"stats_tables\")\n",
        "os.makedirs(common_lemmas_dir, exist_ok=True)"
      ]
    },
    {
      "cell_type": "code",
      "execution_count": 12,
      "metadata": {},
      "outputs": [],
      "source": [
        "# Загрузка CSV-файла c леммами без предлогов\n",
        "file_path = os.path.join(\"..\", \"data\", \"csv\", \"no_prepositions.csv\")\n",
        "df = pd.read_csv(file_path)"
      ]
    },
    {
      "cell_type": "code",
      "execution_count": 13,
      "metadata": {},
      "outputs": [],
      "source": [
        "# Путь к будущему сводному CSV-файлу\n",
        "csv_file = os.path.join(common_lemmas_dir, \"общие_леммы_количество.csv\")"
      ]
    },
    {
      "cell_type": "markdown",
      "metadata": {
        "id": "dMV6uylUhdOR"
      },
      "source": [
        "# Определяем общие леммы и их количество"
      ]
    },
    {
      "cell_type": "code",
      "execution_count": 14,
      "metadata": {
        "id": "3FAo1PUEZNC2"
      },
      "outputs": [],
      "source": [
        "# Находим все колонки, оканчивающиеся на \"_lemmas\"\n",
        "collections = [col for col in df.columns if col.endswith('_lemmas')]\n",
        "\n",
        "# Формируем словарь: {сборник: множество лемм}\n",
        "collection_lemmas = {\n",
        "    col.replace(\"_lemmas\", \"\"): set(df[col].dropna())\n",
        "    for col in collections\n",
        "}"
      ]
    },
    {
      "cell_type": "code",
      "execution_count": 15,
      "metadata": {},
      "outputs": [
        {
          "name": "stdout",
          "output_type": "stream",
          "text": [
            "CSV-файл сохранён: ../output/stats_tables/общие_леммы_количество.csv\n",
            "Файлы с общими леммами находятся в: ../output/stats_tables\n"
          ]
        }
      ],
      "source": [
        "# Открываем CSV-файл для записи итоговой таблицы\n",
        "with open(csv_file, \"w\", encoding=\"utf-8\", newline=\"\") as csvfile:\n",
        "    csv_writer = csv.writer(csvfile)\n",
        "    csv_writer.writerow([\"Сборник_1\", \"Сборник_2\", \"Количество общих лемм\"])\n",
        "\n",
        "    # Перебираем все пары сборников\n",
        "    for coll1, coll2 in combinations(collection_lemmas.keys(), 2):\n",
        "        common_lemmas = collection_lemmas[coll1] & collection_lemmas[coll2]\n",
        "        count_common = len(common_lemmas)\n",
        "\n",
        "        if count_common > 0:\n",
        "            # Запись в CSV\n",
        "            csv_writer.writerow([coll1, coll2, count_common])\n",
        "\n",
        "            # Сохраняем файл с леммами\n",
        "            txt_file = os.path.join(common_lemmas_dir, f\"{coll1} - {coll2} - общие леммы.txt\")\n",
        "            with open(txt_file, \"w\", encoding=\"utf-8\") as f:\n",
        "                f.write(\"\\n\".join(sorted(common_lemmas)))\n",
        "\n",
        "print(f\"CSV-файл сохранён: {csv_file}\")\n",
        "print(f\"Файлы с общими леммами находятся в: {common_lemmas_dir}\")\n"
      ]
    },
    {
      "cell_type": "code",
      "execution_count": null,
      "metadata": {},
      "outputs": [],
      "source": []
    }
  ],
  "metadata": {
    "colab": {
      "provenance": []
    },
    "kernelspec": {
      "display_name": "Python 3",
      "name": "python3"
    },
    "language_info": {
      "codemirror_mode": {
        "name": "ipython",
        "version": 3
      },
      "file_extension": ".py",
      "mimetype": "text/x-python",
      "name": "python",
      "nbconvert_exporter": "python",
      "pygments_lexer": "ipython3",
      "version": "3.11.10"
    }
  },
  "nbformat": 4,
  "nbformat_minor": 0
}
