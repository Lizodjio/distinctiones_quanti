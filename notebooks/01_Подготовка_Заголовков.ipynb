{
  "cells": [
    {
      "cell_type": "markdown",
      "metadata": {
        "id": "Ehw5A0MSr_2p"
      },
      "source": [
        "# Подготовка. Загрузка библиотек"
      ]
    },
    {
      "cell_type": "code",
      "execution_count": 3,
      "metadata": {
        "id": "FBWqzW741KKJ"
      },
      "outputs": [],
      "source": [
        "# устанавливаем библиотеки\n",
        "import os\n",
        "from bs4 import BeautifulSoup\n",
        "import lxml\n",
        "import glob"
      ]
    },
    {
      "cell_type": "code",
      "execution_count": 6,
      "metadata": {
        "id": "x7mcVtxR86NS"
      },
      "outputs": [],
      "source": [
        "# Указываем путь к папке с XML-файлами\n",
        "input_folder = '../data/Distinguo_TEI'\n",
        "\n",
        "# ... и к папке с будущими txt\n",
        "output_folder = '../data/txt'\n",
        "os.makedirs(output_folder, exist_ok=True)"
      ]
    },
    {
      "cell_type": "markdown",
      "metadata": {
        "id": "aFB1dhjzsI1f"
      },
      "source": [
        "# Достаем заголовки дистинкций из xml файлов коллекций"
      ]
    },
    {
      "cell_type": "code",
      "execution_count": 7,
      "metadata": {
        "id": "ii6xUKLGsMWr"
      },
      "outputs": [
        {
          "name": "stdout",
          "output_type": "stream",
          "text": [
            "✅ alanus_de_insula_dist_summa.xml → alanus_de_insula_dist_summa.txt\n",
            "✅ nicolas_de_biard-distinctiones.xml → nicolas_de_biard-distinctiones.txt\n",
            "✅ anonymous_angelus.xml → anonymous_angelus.txt\n",
            "✅ mauritius_hibernicus_distinctiones.xml → mauritius_hibernicus_distinctiones.txt\n",
            "✅ petrus_cantor_distinctiones.xml → petrus_cantor_distinctiones.txt\n",
            "✅ nicolas_de_gorran_distinctiones.xml → nicolas_de_gorran_distinctiones.txt\n",
            "✅ guido_ebroicensis_summa.xml → guido_ebroicensis_summa.txt\n",
            "Все файлы обработаны!\n"
          ]
        }
      ],
      "source": [
        "# Ищем все XML-файлы\n",
        "xml_files = glob.glob(os.path.join(input_folder, '*.xml'))\n",
        "\n",
        "for xml_file in xml_files:\n",
        "    try:\n",
        "        with open(xml_file, 'r', encoding='utf-8') as f:\n",
        "            soup = BeautifulSoup(f, 'xml')\n",
        "\n",
        "        body = soup.find(\"body\")\n",
        "        if body:\n",
        "            # Удаляем <note> и <list>\n",
        "            for note in body.find_all('note'):\n",
        "                note.decompose()\n",
        "            for list_ in body.find_all('list'):\n",
        "                list_.decompose()\n",
        "\n",
        "            heads = body.find_all(\"head\")\n",
        "            if heads:\n",
        "                txt_file_name = os.path.splitext(os.path.basename(xml_file))[0] + '.txt'\n",
        "                txt_file_path = os.path.join(output_folder, txt_file_name)\n",
        "\n",
        "                with open(txt_file_path, 'w', encoding='utf-8') as output_file:\n",
        "                    for head in heads:\n",
        "                        output_file.write(head.get_text(strip=True) + '\\n')\n",
        "\n",
        "                print(f\"✅ {os.path.basename(xml_file)} → {txt_file_name}\")\n",
        "            else:\n",
        "                print(f\"⚠️  {os.path.basename(xml_file)}: нет заголовков <head>\")\n",
        "        else:\n",
        "            print(f\"⚠️  {os.path.basename(xml_file)}: нет <body>\")\n",
        "\n",
        "    except Exception as e:\n",
        "        print(f\"Ошибка в {os.path.basename(xml_file)}: {e}\")\n",
        "\n",
        "print(\"Все файлы обработаны!\")\n"
      ]
    },
    {
      "cell_type": "code",
      "execution_count": null,
      "metadata": {},
      "outputs": [],
      "source": []
    }
  ],
  "metadata": {
    "colab": {
      "provenance": []
    },
    "kernelspec": {
      "display_name": "Python 3",
      "name": "python3"
    },
    "language_info": {
      "codemirror_mode": {
        "name": "ipython",
        "version": 3
      },
      "file_extension": ".py",
      "mimetype": "text/x-python",
      "name": "python",
      "nbconvert_exporter": "python",
      "pygments_lexer": "ipython3",
      "version": "3.11.10"
    }
  },
  "nbformat": 4,
  "nbformat_minor": 0
}
