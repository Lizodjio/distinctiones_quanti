{
  "cells": [
    {
      "cell_type": "markdown",
      "metadata": {
        "id": "S5AlN3phVre5"
      },
      "source": [
        "# Загрузка библиотек. Подготовка данных"
      ]
    },
    {
      "cell_type": "code",
      "execution_count": 1,
      "metadata": {
        "id": "V_HGDr4IooVi"
      },
      "outputs": [],
      "source": [
        "import csv\n",
        "import os\n",
        "from itertools import combinations\n",
        "import glob\n",
        "import pandas as pd"
      ]
    },
    {
      "cell_type": "markdown",
      "metadata": {
        "id": "WhZXDXrFkyBg"
      },
      "source": [
        "# Определяем гапаксы для каждой коллекции и их соотношение к общему числу лемм в каждом сборнике"
      ]
    },
    {
      "cell_type": "code",
      "execution_count": 4,
      "metadata": {
        "id": "vAc1qZXcl52k"
      },
      "outputs": [
        {
          "name": "stdout",
          "output_type": "stream",
          "text": [
            "Статистика сохранена: ../output/stats_tables/unique_lemma_stats.csv\n"
          ]
        }
      ],
      "source": [
        "# Папка с cleaned-файлами\n",
        "lemmas_dir = os.path.join(\"..\", \"data\", \"lemmas\")\n",
        "files = glob.glob(os.path.join(lemmas_dir, \"cleaned_*.csv\"))\n",
        "\n",
        "# Папка для сохранения результата\n",
        "output_dir = os.path.join(\"..\", \"output\", \"stats_tables\")\n",
        "os.makedirs(output_dir, exist_ok=True)\n",
        "output_path = os.path.join(output_dir, \"unique_lemma_stats.csv\")\n",
        "\n",
        "# Собираем все данные\n",
        "all_data = []\n",
        "\n",
        "for file in files:\n",
        "    try:\n",
        "        # Читаем файл без заголовка, задаём имя столбца \"lemma\"\n",
        "        df = pd.read_csv(file, header=None, names=[\"lemma\"], encoding=\"utf-8\")\n",
        "\n",
        "        # Получаем название сборника из имени файла\n",
        "        filename = os.path.basename(file).replace(\"cleaned_\", \"\")\n",
        "\n",
        "        # Добавляем столбец с названием сборника\n",
        "        df[\"source\"] = filename\n",
        "\n",
        "        # Убираем дубликаты по лемме и сборнику\n",
        "        df = df.drop_duplicates(subset=[\"lemma\", \"source\"])\n",
        "\n",
        "        all_data.append(df)\n",
        "    except Exception as e:\n",
        "        print(\"f Ошибка при обработке {file}: {e}\")\n",
        "\n",
        "# Объединяем все данные\n",
        "df_all = pd.concat(all_data, ignore_index=True)\n",
        "\n",
        "# Подсчёт количества сборников, в которых встречается каждая лемма\n",
        "df_counts = df_all.groupby(\"lemma\")[\"source\"].nunique().reset_index()\n",
        "df_counts.columns = [\"lemma\", \"collection_count\"]\n",
        "\n",
        "# Добавляем эту информацию в основной DataFrame\n",
        "df_all = df_all.merge(df_counts, on=\"lemma\", how=\"left\")\n",
        "\n",
        "# Отмечаем, какие леммы уникальны\n",
        "df_all[\"is_unique\"] = df_all[\"collection_count\"] == 1\n",
        "\n",
        "# Группировка по сборнику и подсчёт уникальных/неуникальных лемм\n",
        "df_stats = df_all.groupby(\"source\")[\"is_unique\"].value_counts().unstack().fillna(0)\n",
        "df_stats.columns = [\"не уникальные леммы\", \"уникальные леммы\"]\n",
        "\n",
        "# Добавляем общее количество и процент уникальных\n",
        "df_stats[\"всего лемм\"] = (\n",
        "    df_stats[\"не уникальные леммы\"] + df_stats[\"уникальные леммы\"]\n",
        ")\n",
        "df_stats[\"% уникальных лемм\"] = (\n",
        "    df_stats[\"уникальные леммы\"] / df_stats[\"всего лемм\"] * 100\n",
        ").round(2)\n",
        "\n",
        "# Сохраняем результат\n",
        "df_stats.to_csv(output_path, sep=\";\", encoding=\"utf-8\")\n",
        "\n",
        "print(f\"Статистика сохранена: {output_path}\")\n"
      ]
    },
    {
      "cell_type": "markdown",
      "metadata": {
        "id": "rjoEZoXEO_Fc"
      },
      "source": [
        "# Создаем таблицу соотношения уникальных лемм к неуникальным и сохраняем в csv"
      ]
    },
    {
      "cell_type": "code",
      "execution_count": 5,
      "metadata": {
        "id": "ViwNuz1GJSIg"
      },
      "outputs": [
        {
          "data": {
            "text/html": [
              "<div>\n",
              "<style scoped>\n",
              "    .dataframe tbody tr th:only-of-type {\n",
              "        vertical-align: middle;\n",
              "    }\n",
              "\n",
              "    .dataframe tbody tr th {\n",
              "        vertical-align: top;\n",
              "    }\n",
              "\n",
              "    .dataframe thead th {\n",
              "        text-align: right;\n",
              "    }\n",
              "</style>\n",
              "<table border=\"1\" class=\"dataframe\">\n",
              "  <thead>\n",
              "    <tr style=\"text-align: right;\">\n",
              "      <th></th>\n",
              "      <th>не уникальные леммы</th>\n",
              "      <th>уникальные леммы</th>\n",
              "      <th>всего лемм</th>\n",
              "      <th>% уникальных лемм</th>\n",
              "    </tr>\n",
              "    <tr>\n",
              "      <th>source</th>\n",
              "      <th></th>\n",
              "      <th></th>\n",
              "      <th></th>\n",
              "      <th></th>\n",
              "    </tr>\n",
              "  </thead>\n",
              "  <tbody>\n",
              "    <tr>\n",
              "      <th>alanus_de_insula_dist_summa.predicted_лем.csv</th>\n",
              "      <td>941</td>\n",
              "      <td>484</td>\n",
              "      <td>1425</td>\n",
              "      <td>33.96</td>\n",
              "    </tr>\n",
              "    <tr>\n",
              "      <th>anonymous_angelus.predicted_лем.csv</th>\n",
              "      <td>625</td>\n",
              "      <td>325</td>\n",
              "      <td>950</td>\n",
              "      <td>34.21</td>\n",
              "    </tr>\n",
              "    <tr>\n",
              "      <th>guido_ebroicensis_summa.predicted_лем.csv</th>\n",
              "      <td>70</td>\n",
              "      <td>5</td>\n",
              "      <td>75</td>\n",
              "      <td>6.67</td>\n",
              "    </tr>\n",
              "    <tr>\n",
              "      <th>mauritius_hibernicus_distinctiones.predicted_лем.csv</th>\n",
              "      <td>641</td>\n",
              "      <td>488</td>\n",
              "      <td>1129</td>\n",
              "      <td>43.22</td>\n",
              "    </tr>\n",
              "    <tr>\n",
              "      <th>nicolas_de_biard-distinctiones.predicted_лем.csv</th>\n",
              "      <td>555</td>\n",
              "      <td>311</td>\n",
              "      <td>866</td>\n",
              "      <td>35.91</td>\n",
              "    </tr>\n",
              "    <tr>\n",
              "      <th>nicolas_de_gorran_distinctiones.predicted_лем.csv</th>\n",
              "      <td>312</td>\n",
              "      <td>58</td>\n",
              "      <td>370</td>\n",
              "      <td>15.68</td>\n",
              "    </tr>\n",
              "    <tr>\n",
              "      <th>petrus_cantor_distinctiones.predicted_лем.csv</th>\n",
              "      <td>715</td>\n",
              "      <td>531</td>\n",
              "      <td>1246</td>\n",
              "      <td>42.62</td>\n",
              "    </tr>\n",
              "  </tbody>\n",
              "</table>\n",
              "</div>"
            ],
            "text/plain": [
              "                                                    не уникальные леммы  \\\n",
              "source                                                                    \n",
              "alanus_de_insula_dist_summa.predicted_лем.csv                       941   \n",
              "anonymous_angelus.predicted_лем.csv                                 625   \n",
              "guido_ebroicensis_summa.predicted_лем.csv                            70   \n",
              "mauritius_hibernicus_distinctiones.predicted_ле...                  641   \n",
              "nicolas_de_biard-distinctiones.predicted_лем.csv                    555   \n",
              "nicolas_de_gorran_distinctiones.predicted_лем.csv                   312   \n",
              "petrus_cantor_distinctiones.predicted_лем.csv                       715   \n",
              "\n",
              "                                                    уникальные леммы  \\\n",
              "source                                                                 \n",
              "alanus_de_insula_dist_summa.predicted_лем.csv                    484   \n",
              "anonymous_angelus.predicted_лем.csv                              325   \n",
              "guido_ebroicensis_summa.predicted_лем.csv                          5   \n",
              "mauritius_hibernicus_distinctiones.predicted_ле...               488   \n",
              "nicolas_de_biard-distinctiones.predicted_лем.csv                 311   \n",
              "nicolas_de_gorran_distinctiones.predicted_лем.csv                 58   \n",
              "petrus_cantor_distinctiones.predicted_лем.csv                    531   \n",
              "\n",
              "                                                    всего лемм  \\\n",
              "source                                                           \n",
              "alanus_de_insula_dist_summa.predicted_лем.csv             1425   \n",
              "anonymous_angelus.predicted_лем.csv                        950   \n",
              "guido_ebroicensis_summa.predicted_лем.csv                   75   \n",
              "mauritius_hibernicus_distinctiones.predicted_ле...        1129   \n",
              "nicolas_de_biard-distinctiones.predicted_лем.csv           866   \n",
              "nicolas_de_gorran_distinctiones.predicted_лем.csv          370   \n",
              "petrus_cantor_distinctiones.predicted_лем.csv             1246   \n",
              "\n",
              "                                                    % уникальных лемм  \n",
              "source                                                                 \n",
              "alanus_de_insula_dist_summa.predicted_лем.csv                   33.96  \n",
              "anonymous_angelus.predicted_лем.csv                             34.21  \n",
              "guido_ebroicensis_summa.predicted_лем.csv                        6.67  \n",
              "mauritius_hibernicus_distinctiones.predicted_ле...              43.22  \n",
              "nicolas_de_biard-distinctiones.predicted_лем.csv                35.91  \n",
              "nicolas_de_gorran_distinctiones.predicted_лем.csv               15.68  \n",
              "petrus_cantor_distinctiones.predicted_лем.csv                   42.62  "
            ]
          },
          "execution_count": 5,
          "metadata": {},
          "output_type": "execute_result"
        }
      ],
      "source": [
        "df_stats"
      ]
    },
    {
      "cell_type": "code",
      "execution_count": 6,
      "metadata": {
        "id": "InnRuwPLJd3U"
      },
      "outputs": [],
      "source": [
        "df_stats.to_csv('../output/stats_tables/стастистика_по_леммам.csv')"
      ]
    },
    {
      "cell_type": "markdown",
      "metadata": {
        "id": "GY7IYr4UQKy0"
      },
      "source": [
        "# Создаем и сохраняем в csv таблицу типов лемм, которая покажет, является ли лемма уникальной; если нет, то в каком количестве сборников она встречается."
      ]
    },
    {
      "cell_type": "code",
      "execution_count": 7,
      "metadata": {
        "id": "h-w6gOqLP6vJ"
      },
      "outputs": [
        {
          "data": {
            "text/html": [
              "<div>\n",
              "<style scoped>\n",
              "    .dataframe tbody tr th:only-of-type {\n",
              "        vertical-align: middle;\n",
              "    }\n",
              "\n",
              "    .dataframe tbody tr th {\n",
              "        vertical-align: top;\n",
              "    }\n",
              "\n",
              "    .dataframe thead th {\n",
              "        text-align: right;\n",
              "    }\n",
              "</style>\n",
              "<table border=\"1\" class=\"dataframe\">\n",
              "  <thead>\n",
              "    <tr style=\"text-align: right;\">\n",
              "      <th></th>\n",
              "      <th>lemma</th>\n",
              "      <th>source</th>\n",
              "      <th>collection_count</th>\n",
              "      <th>is_unique</th>\n",
              "    </tr>\n",
              "  </thead>\n",
              "  <tbody>\n",
              "    <tr>\n",
              "      <th>0</th>\n",
              "      <td>lemma</td>\n",
              "      <td>anonymous_angelus.predicted_лем.csv</td>\n",
              "      <td>7.0</td>\n",
              "      <td>False</td>\n",
              "    </tr>\n",
              "    <tr>\n",
              "      <th>1</th>\n",
              "      <td>angelus</td>\n",
              "      <td>anonymous_angelus.predicted_лем.csv</td>\n",
              "      <td>6.0</td>\n",
              "      <td>False</td>\n",
              "    </tr>\n",
              "    <tr>\n",
              "      <th>2</th>\n",
              "      <td>anima</td>\n",
              "      <td>anonymous_angelus.predicted_лем.csv</td>\n",
              "      <td>6.0</td>\n",
              "      <td>False</td>\n",
              "    </tr>\n",
              "    <tr>\n",
              "      <th>3</th>\n",
              "      <td>Abyssus</td>\n",
              "      <td>anonymous_angelus.predicted_лем.csv</td>\n",
              "      <td>4.0</td>\n",
              "      <td>False</td>\n",
              "    </tr>\n",
              "    <tr>\n",
              "      <th>4</th>\n",
              "      <td>Abies</td>\n",
              "      <td>anonymous_angelus.predicted_лем.csv</td>\n",
              "      <td>2.0</td>\n",
              "      <td>False</td>\n",
              "    </tr>\n",
              "    <tr>\n",
              "      <th>...</th>\n",
              "      <td>...</td>\n",
              "      <td>...</td>\n",
              "      <td>...</td>\n",
              "      <td>...</td>\n",
              "    </tr>\n",
              "    <tr>\n",
              "      <th>6056</th>\n",
              "      <td>unitas</td>\n",
              "      <td>mauritius_hibernicus_distinctiones.predicted_л...</td>\n",
              "      <td>3.0</td>\n",
              "      <td>False</td>\n",
              "    </tr>\n",
              "    <tr>\n",
              "      <th>6057</th>\n",
              "      <td>utilitas</td>\n",
              "      <td>mauritius_hibernicus_distinctiones.predicted_л...</td>\n",
              "      <td>2.0</td>\n",
              "      <td>False</td>\n",
              "    </tr>\n",
              "    <tr>\n",
              "      <th>6058</th>\n",
              "      <td>z</td>\n",
              "      <td>mauritius_hibernicus_distinctiones.predicted_л...</td>\n",
              "      <td>1.0</td>\n",
              "      <td>True</td>\n",
              "    </tr>\n",
              "    <tr>\n",
              "      <th>6059</th>\n",
              "      <td>zelus</td>\n",
              "      <td>mauritius_hibernicus_distinctiones.predicted_л...</td>\n",
              "      <td>6.0</td>\n",
              "      <td>False</td>\n",
              "    </tr>\n",
              "    <tr>\n",
              "      <th>6060</th>\n",
              "      <td>Zona</td>\n",
              "      <td>mauritius_hibernicus_distinctiones.predicted_л...</td>\n",
              "      <td>3.0</td>\n",
              "      <td>False</td>\n",
              "    </tr>\n",
              "  </tbody>\n",
              "</table>\n",
              "<p>6061 rows × 4 columns</p>\n",
              "</div>"
            ],
            "text/plain": [
              "         lemma                                             source  \\\n",
              "0        lemma                anonymous_angelus.predicted_лем.csv   \n",
              "1      angelus                anonymous_angelus.predicted_лем.csv   \n",
              "2        anima                anonymous_angelus.predicted_лем.csv   \n",
              "3      Abyssus                anonymous_angelus.predicted_лем.csv   \n",
              "4        Abies                anonymous_angelus.predicted_лем.csv   \n",
              "...        ...                                                ...   \n",
              "6056    unitas  mauritius_hibernicus_distinctiones.predicted_л...   \n",
              "6057  utilitas  mauritius_hibernicus_distinctiones.predicted_л...   \n",
              "6058         z  mauritius_hibernicus_distinctiones.predicted_л...   \n",
              "6059     zelus  mauritius_hibernicus_distinctiones.predicted_л...   \n",
              "6060      Zona  mauritius_hibernicus_distinctiones.predicted_л...   \n",
              "\n",
              "      collection_count  is_unique  \n",
              "0                  7.0      False  \n",
              "1                  6.0      False  \n",
              "2                  6.0      False  \n",
              "3                  4.0      False  \n",
              "4                  2.0      False  \n",
              "...                ...        ...  \n",
              "6056               3.0      False  \n",
              "6057               2.0      False  \n",
              "6058               1.0       True  \n",
              "6059               6.0      False  \n",
              "6060               3.0      False  \n",
              "\n",
              "[6061 rows x 4 columns]"
            ]
          },
          "execution_count": 7,
          "metadata": {},
          "output_type": "execute_result"
        }
      ],
      "source": [
        "df_all"
      ]
    },
    {
      "cell_type": "code",
      "execution_count": 8,
      "metadata": {
        "id": "U5xksB6JP9J3"
      },
      "outputs": [],
      "source": [
        "df_all.to_csv('../output/stats_tables/стастистика_по_леммам2.csv')"
      ]
    },
    {
      "cell_type": "code",
      "execution_count": null,
      "metadata": {},
      "outputs": [],
      "source": []
    }
  ],
  "metadata": {
    "colab": {
      "provenance": []
    },
    "kernelspec": {
      "display_name": "Python 3",
      "name": "python3"
    },
    "language_info": {
      "codemirror_mode": {
        "name": "ipython",
        "version": 3
      },
      "file_extension": ".py",
      "mimetype": "text/x-python",
      "name": "python",
      "nbconvert_exporter": "python",
      "pygments_lexer": "ipython3",
      "version": "3.11.10"
    }
  },
  "nbformat": 4,
  "nbformat_minor": 0
}
