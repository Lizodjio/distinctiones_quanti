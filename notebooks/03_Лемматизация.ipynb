{
  "cells": [
    {
      "cell_type": "markdown",
      "metadata": {
        "id": "Y0hdsKGqNP0M"
      },
      "source": [
        "# Подготовка: установка latinpipe"
      ]
    },
    {
      "cell_type": "code",
      "execution_count": null,
      "metadata": {},
      "outputs": [],
      "source": [
        "import requests\n",
        "import os\n",
        "import tarfile\n",
        "import pandas as pd\n",
        "import glob\n",
        "import subprocess\n",
        "import tensorflow"
      ]
    },
    {
      "cell_type": "code",
      "execution_count": 20,
      "metadata": {
        "id": "y-BqY24ENkuY"
      },
      "outputs": [
        {
          "name": "stderr",
          "output_type": "stream",
          "text": [
            "Cloning into '../evalatin2024-latinpipe'...\n"
          ]
        },
        {
          "name": "stdout",
          "output_type": "stream",
          "text": [
            "Looking in indexes: https://pypi.org/simple, https://download.pytorch.org/whl/cu118\n",
            "Requirement already satisfied: keras in /usr/local/lib/python3.11/site-packages (from -r ../evalatin2024-latinpipe/requirements.txt (line 1)) (3.9.2)\n",
            "Requirement already satisfied: torch in /usr/local/lib/python3.11/site-packages (from -r ../evalatin2024-latinpipe/requirements.txt (line 2)) (2.2.2)\n",
            "Requirement already satisfied: transformers in /usr/local/lib/python3.11/site-packages (from -r ../evalatin2024-latinpipe/requirements.txt (line 4)) (4.51.3)\n",
            "Requirement already satisfied: ufal.chu-liu-edmonds in /usr/local/lib/python3.11/site-packages (from -r ../evalatin2024-latinpipe/requirements.txt (line 5)) (1.0.3)\n",
            "Requirement already satisfied: absl-py in /usr/local/lib/python3.11/site-packages (from keras->-r ../evalatin2024-latinpipe/requirements.txt (line 1)) (2.2.2)\n",
            "Requirement already satisfied: numpy in /usr/local/lib/python3.11/site-packages (from keras->-r ../evalatin2024-latinpipe/requirements.txt (line 1)) (2.2.3)\n",
            "Requirement already satisfied: rich in /usr/local/lib/python3.11/site-packages (from keras->-r ../evalatin2024-latinpipe/requirements.txt (line 1)) (14.0.0)\n",
            "Requirement already satisfied: namex in /usr/local/lib/python3.11/site-packages (from keras->-r ../evalatin2024-latinpipe/requirements.txt (line 1)) (0.0.9)\n",
            "Requirement already satisfied: h5py in /usr/local/lib/python3.11/site-packages (from keras->-r ../evalatin2024-latinpipe/requirements.txt (line 1)) (3.13.0)\n",
            "Requirement already satisfied: optree in /usr/local/lib/python3.11/site-packages (from keras->-r ../evalatin2024-latinpipe/requirements.txt (line 1)) (0.15.0)\n",
            "Requirement already satisfied: ml-dtypes in /usr/local/lib/python3.11/site-packages (from keras->-r ../evalatin2024-latinpipe/requirements.txt (line 1)) (0.5.1)\n",
            "Requirement already satisfied: packaging in /Users/sy/Library/Python/3.11/lib/python/site-packages (from keras->-r ../evalatin2024-latinpipe/requirements.txt (line 1)) (24.2)\n",
            "Requirement already satisfied: filelock in /usr/local/lib/python3.11/site-packages (from torch->-r ../evalatin2024-latinpipe/requirements.txt (line 2)) (3.18.0)\n",
            "Requirement already satisfied: typing-extensions>=4.8.0 in /Users/sy/Library/Python/3.11/lib/python/site-packages (from torch->-r ../evalatin2024-latinpipe/requirements.txt (line 2)) (4.12.2)\n",
            "Requirement already satisfied: sympy in /usr/local/lib/python3.11/site-packages (from torch->-r ../evalatin2024-latinpipe/requirements.txt (line 2)) (1.14.0)\n",
            "Requirement already satisfied: networkx in /usr/local/lib/python3.11/site-packages (from torch->-r ../evalatin2024-latinpipe/requirements.txt (line 2)) (3.4.2)\n",
            "Requirement already satisfied: jinja2 in /usr/local/lib/python3.11/site-packages (from torch->-r ../evalatin2024-latinpipe/requirements.txt (line 2)) (3.1.6)\n",
            "Requirement already satisfied: fsspec in /usr/local/lib/python3.11/site-packages (from torch->-r ../evalatin2024-latinpipe/requirements.txt (line 2)) (2025.3.2)\n",
            "Requirement already satisfied: huggingface-hub<1.0,>=0.30.0 in /usr/local/lib/python3.11/site-packages (from transformers->-r ../evalatin2024-latinpipe/requirements.txt (line 4)) (0.31.1)\n",
            "Requirement already satisfied: pyyaml>=5.1 in /usr/local/lib/python3.11/site-packages (from transformers->-r ../evalatin2024-latinpipe/requirements.txt (line 4)) (6.0.2)\n",
            "Requirement already satisfied: regex!=2019.12.17 in /usr/local/lib/python3.11/site-packages (from transformers->-r ../evalatin2024-latinpipe/requirements.txt (line 4)) (2024.11.6)\n",
            "Requirement already satisfied: requests in /usr/local/lib/python3.11/site-packages (from transformers->-r ../evalatin2024-latinpipe/requirements.txt (line 4)) (2.32.3)\n",
            "Requirement already satisfied: tokenizers<0.22,>=0.21 in /usr/local/lib/python3.11/site-packages (from transformers->-r ../evalatin2024-latinpipe/requirements.txt (line 4)) (0.21.1)\n",
            "Requirement already satisfied: safetensors>=0.4.3 in /usr/local/lib/python3.11/site-packages (from transformers->-r ../evalatin2024-latinpipe/requirements.txt (line 4)) (0.5.3)\n",
            "Requirement already satisfied: tqdm>=4.27 in /usr/local/lib/python3.11/site-packages (from transformers->-r ../evalatin2024-latinpipe/requirements.txt (line 4)) (4.67.1)\n",
            "Requirement already satisfied: hf-xet<2.0.0,>=1.1.0 in /usr/local/lib/python3.11/site-packages (from huggingface-hub<1.0,>=0.30.0->transformers->-r ../evalatin2024-latinpipe/requirements.txt (line 4)) (1.1.0)\n",
            "Requirement already satisfied: MarkupSafe>=2.0 in /usr/local/lib/python3.11/site-packages (from jinja2->torch->-r ../evalatin2024-latinpipe/requirements.txt (line 2)) (3.0.2)\n",
            "Requirement already satisfied: charset-normalizer<4,>=2 in /usr/local/lib/python3.11/site-packages (from requests->transformers->-r ../evalatin2024-latinpipe/requirements.txt (line 4)) (3.4.1)\n",
            "Requirement already satisfied: idna<4,>=2.5 in /usr/local/lib/python3.11/site-packages (from requests->transformers->-r ../evalatin2024-latinpipe/requirements.txt (line 4)) (3.10)\n",
            "Requirement already satisfied: urllib3<3,>=1.21.1 in /usr/local/lib/python3.11/site-packages (from requests->transformers->-r ../evalatin2024-latinpipe/requirements.txt (line 4)) (2.3.0)\n",
            "Requirement already satisfied: certifi>=2017.4.17 in /usr/local/lib/python3.11/site-packages (from requests->transformers->-r ../evalatin2024-latinpipe/requirements.txt (line 4)) (2025.1.31)\n",
            "Requirement already satisfied: markdown-it-py>=2.2.0 in /usr/local/lib/python3.11/site-packages (from rich->keras->-r ../evalatin2024-latinpipe/requirements.txt (line 1)) (3.0.0)\n",
            "Requirement already satisfied: pygments<3.0.0,>=2.13.0 in /Users/sy/Library/Python/3.11/lib/python/site-packages (from rich->keras->-r ../evalatin2024-latinpipe/requirements.txt (line 1)) (2.19.1)\n",
            "Requirement already satisfied: mdurl~=0.1 in /usr/local/lib/python3.11/site-packages (from markdown-it-py>=2.2.0->rich->keras->-r ../evalatin2024-latinpipe/requirements.txt (line 1)) (0.1.2)\n",
            "Requirement already satisfied: mpmath<1.4,>=1.1.0 in /usr/local/lib/python3.11/site-packages (from sympy->torch->-r ../evalatin2024-latinpipe/requirements.txt (line 2)) (1.3.0)\n"
          ]
        }
      ],
      "source": [
        "# Клонируем репозиторий latinpipe\n",
        "repo_url = \"https://github.com/ufal/evalatin2024-latinpipe.git\"\n",
        "repo_dir = \"../evalatin2024-latinpipe\"\n",
        "\n",
        "# Клонируем только если ещё не клонирован\n",
        "if not os.path.exists(repo_dir):\n",
        "    subprocess.run([\"git\", \"clone\", repo_url, repo_dir])\n",
        "else:\n",
        "    print(f\"Папка '{repo_dir}' уже существует, пропускаем клонирование.\")\n",
        "\n",
        "# Устанавливаем зависимости\n",
        "req_path = os.path.join(repo_dir, \"requirements.txt\")\n",
        "if os.path.exists(req_path):\n",
        "    subprocess.run([\"pip\", \"install\", \"-r\", req_path])\n",
        "else:\n",
        "    print(f\"requirements.txt не найден по пути: {req_path}\")"
      ]
    },
    {
      "cell_type": "markdown",
      "metadata": {},
      "source": [
        "ВАЖНО! в ../evalatin2024-latinpipe/latinpipe_evalatin24.py замените строку 22 на **from typing_extensions import Self**"
      ]
    },
    {
      "cell_type": "markdown",
      "metadata": {
        "id": "BC0JdxPtNvn_"
      },
      "source": [
        "# Скачиваем модель"
      ]
    },
    {
      "cell_type": "code",
      "execution_count": 13,
      "metadata": {
        "id": "E6XvmMouN8Ym"
      },
      "outputs": [
        {
          "name": "stdout",
          "output_type": "stream",
          "text": [
            "Архив скачан.\n",
            "Архив распакован в ../EvaLatin.\n"
          ]
        }
      ],
      "source": [
        "model_dir = \"../EvaLatin\"\n",
        "os.makedirs(model_dir, exist_ok=True)\n",
        "\n",
        "file_name = \"latinpipe-evalatin24-240520.tar.gz\"\n",
        "file_url = f\"https://lindat.mff.cuni.cz/repository/xmlui/bitstream/handle/11234/1-5671/{file_name}\"\n",
        "archive_path = os.path.join(model_dir, file_name)\n",
        "\n",
        "# Скачивание\n",
        "if not os.path.exists(archive_path):\n",
        "    response = requests.get(file_url, stream=True)\n",
        "    with open(archive_path, 'wb') as f:\n",
        "        for chunk in response.iter_content(8192):\n",
        "            f.write(chunk)\n",
        "    print(\"Архив скачан.\")\n",
        "else:\n",
        "    print(\"Архив уже существует, пропускаем скачивание.\")\n",
        "\n",
        "# Распаковка\n",
        "with tarfile.open(archive_path, \"r:gz\") as tar:\n",
        "    tar.extractall(model_dir)\n",
        "print(f\"Архив распакован в {model_dir}.\")\n"
      ]
    },
    {
      "cell_type": "markdown",
      "metadata": {
        "id": "eVk4TLbQOXE6"
      },
      "source": [
        "# Лемматизация"
      ]
    },
    {
      "cell_type": "code",
      "execution_count": 9,
      "metadata": {
        "id": "T6b5cMQlO2LR"
      },
      "outputs": [
        {
          "name": "stdout",
          "output_type": "stream",
          "text": [
            "2025-05-11 17:07:30.544829: I tensorflow/core/platform/cpu_feature_guard.cc:210] This TensorFlow binary is optimized to use available CPU instructions in performance-critical operations.\n",
            "To enable the following instructions: AVX2 FMA, in other operations, rebuild TensorFlow with the appropriate compiler flags.\n",
            "tokenizer_config.json: 100%|████████████████████| 354/354 [00:00<00:00, 217kB/s]\n",
            "vocab.json: 100%|██████████████████████████| 1.43M/1.43M [00:00<00:00, 2.19MB/s]\n",
            "merges.txt: 100%|████████████████████████████| 994k/994k [00:00<00:00, 3.85MB/s]\n",
            "tokenizer.json: 100%|██████████████████████| 3.51M/3.51M [00:00<00:00, 19.4MB/s]\n",
            "special_tokens_map.json: 100%|█████████████████| 280/280 [00:00<00:00, 1.02MB/s]\n",
            "config.json: 100%|█████████████████████████████| 676/676 [00:00<00:00, 3.08MB/s]\n"
          ]
        }
      ],
      "source": [
        "!python3.11 latinpipe_evalatin24.py \\\n",
        "    --load ../EvaLatin/latinpipe-evalatin24-240520/model.weights.h5 \\\n",
        "    --exp ../EvaLatin/prediction \\\n",
        "    --test ../data/conllu/*.conllu"
      ]
    },
    {
      "cell_type": "markdown",
      "metadata": {
        "id": "UO2yQuboRLmS"
      },
      "source": [
        "# Выбираем столбцы с леммами и сохраняем в .csv"
      ]
    },
    {
      "cell_type": "code",
      "execution_count": 10,
      "metadata": {
        "id": "VLz5MA-zRYY7"
      },
      "outputs": [
        {
          "name": "stdout",
          "output_type": "stream",
          "text": [
            "Обработан файл: petrus_cantor_distinctiones.predicted.conllu -> petrus_cantor_distinctiones.predicted_лем.csv\n",
            "Обработан файл: nicolas_de_biard-distinctiones.predicted.conllu -> nicolas_de_biard-distinctiones.predicted_лем.csv\n",
            "Обработан файл: mauritius_hibernicus_distinctiones.predicted.conllu -> mauritius_hibernicus_distinctiones.predicted_лем.csv\n",
            "Обработан файл: anonymous_angelus.predicted.conllu -> anonymous_angelus.predicted_лем.csv\n",
            "Обработан файл: guido_ebroicensis_summa.predicted.conllu -> guido_ebroicensis_summa.predicted_лем.csv\n",
            "Обработан файл: alanus_de_insula_dist_summa.predicted.conllu -> alanus_de_insula_dist_summa.predicted_лем.csv\n",
            "Обработан файл: nicolas_de_gorran_distinctiones.predicted.conllu -> nicolas_de_gorran_distinctiones.predicted_лем.csv\n"
          ]
        }
      ],
      "source": [
        "input_folder = \"../EvaLatin/prediction\"\n",
        "output_folder = \"../data/lemmas/\"\n",
        "\n",
        "os.makedirs(output_folder, exist_ok=True)\n",
        "\n",
        "# Ищем все .conllu файлы в папке\n",
        "file_list = glob.glob(os.path.join(input_folder, \"*.conllu\"))\n",
        "\n",
        "# Индекс столбца, который нужно выделить\n",
        "column_name = 2\n",
        "\n",
        "for file_path in file_list:\n",
        "    df = pd.read_csv(file_path, sep=\"\\t\", header=None)\n",
        "    selected_dataframe = df[[column_name]]\n",
        "\n",
        "    # Формируем имя выходного файла\n",
        "    base_name = os.path.basename(file_path)\n",
        "    new_name = base_name.replace(\".conllu\", \"_лем.csv\")\n",
        "    output_path = os.path.join(output_folder, new_name)\n",
        "\n",
        "    selected_dataframe.to_csv(output_path, header=False, index=False)\n",
        "\n",
        "    print(f\"Обработан файл: {base_name} -> {new_name}\")"
      ]
    }
  ],
  "metadata": {
    "colab": {
      "provenance": []
    },
    "kernelspec": {
      "display_name": "Python 3",
      "name": "python3"
    },
    "language_info": {
      "codemirror_mode": {
        "name": "ipython",
        "version": 3
      },
      "file_extension": ".py",
      "mimetype": "text/x-python",
      "name": "python",
      "nbconvert_exporter": "python",
      "pygments_lexer": "ipython3",
      "version": "3.11.10"
    }
  },
  "nbformat": 4,
  "nbformat_minor": 0
}
